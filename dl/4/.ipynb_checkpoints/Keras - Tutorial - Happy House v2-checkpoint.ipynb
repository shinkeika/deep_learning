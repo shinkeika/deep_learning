{
 "cells": [
  {
   "cell_type": "code",
   "execution_count": 22,
   "metadata": {},
   "outputs": [],
   "source": [
    "import numpy as np\n",
    "from keras import layers\n",
    "from keras.layers import Input, Dense, Activation, ZeroPadding2D,BatchNormalization, Flatten, Conv2D\n",
    "from keras.layers import AveragePooling2D, MaxPooling2D, Dropout, GlobalMaxPooling2D, GlobalAveragePooling2D \n",
    "from keras.models import Model\n",
    "from keras.preprocessing import image\n",
    "from keras.utils import layer_utils\n",
    "from keras.utils.data_utils import get_file\n",
    "from keras.applications.imagenet_utils import preprocess_input\n",
    "import pydot\n",
    "from IPython.display import SVG\n",
    "from keras.utils.vis_utils import model_to_dot\n",
    "from keras.utils import plot_model\n",
    "import matplotlib.pyplot as plt\n",
    "from matplotlib.pyplot import imshow\n",
    "from kt_utils import *\n",
    "import keras.backend as K\n",
    "K.set_image_data_format('channels_last')\n",
    "%matplotlib inline"
   ]
  },
  {
   "cell_type": "code",
   "execution_count": 2,
   "metadata": {},
   "outputs": [],
   "source": [
    "X_train_orig, Y_train_orig, X_test_orig, Y_test_orig, classes = load_dataset()"
   ]
  },
  {
   "cell_type": "code",
   "execution_count": 3,
   "metadata": {},
   "outputs": [],
   "source": [
    "# normalization\n",
    "X_train = X_train_orig/255.\n",
    "X_test = X_test_orig/255."
   ]
  },
  {
   "cell_type": "code",
   "execution_count": 4,
   "metadata": {},
   "outputs": [],
   "source": [
    "# reshape\n",
    "Y_train = Y_train_orig.T\n",
    "Y_test = Y_test_orig.T"
   ]
  },
  {
   "cell_type": "code",
   "execution_count": 5,
   "metadata": {},
   "outputs": [
    {
     "name": "stdout",
     "output_type": "stream",
     "text": [
      "number of training examples = 600\n",
      "number of test examples = 150\n",
      "X_train shape: (600, 64, 64, 3)\n",
      "Y_train shape: (600, 1)\n",
      "X_test shape: (150, 64, 64, 3)\n",
      "Y_test shape: (150, 1)\n"
     ]
    }
   ],
   "source": [
    "print (\"number of training examples = \" + str(X_train.shape[0]))\n",
    "print (\"number of test examples = \" + str(X_test.shape[0]))\n",
    "print (\"X_train shape: \" + str(X_train.shape))\n",
    "print (\"Y_train shape: \" + str(Y_train.shape))\n",
    "print (\"X_test shape: \" + str(X_test.shape))\n",
    "print (\"Y_test shape: \" + str(Y_test.shape))"
   ]
  },
  {
   "cell_type": "code",
   "execution_count": 12,
   "metadata": {},
   "outputs": [],
   "source": [
    "def HappyModel(input_shape):\n",
    "    X_input = Input(input_shape)\n",
    "    X = ZeroPadding2D((3,3))(X_input)\n",
    "    X = Conv2D(16, (5,5), strides = (1,1), name = 'conv0')(X)\n",
    "    X = BatchNormalization(axis =3, name='bn0')(X)\n",
    "    X = Activation('relu')(X)\n",
    "    X = MaxPooling2D((2,2), name='max_pool')(X)\n",
    "    X = Flatten()(X)\n",
    "    X = Dense(1, activation='sigmoid', name='fc')(X)\n",
    "    model = Model(inputs=X_input, outputs=X, name = 'HappyModel')\n",
    "    return model"
   ]
  },
  {
   "cell_type": "code",
   "execution_count": 13,
   "metadata": {},
   "outputs": [],
   "source": [
    "happyModel = HappyModel(X_train.shape[1:])"
   ]
  },
  {
   "cell_type": "code",
   "execution_count": 14,
   "metadata": {},
   "outputs": [],
   "source": [
    "happyModel.compile('adam','binary_crossentropy',metrics=['accuracy'])\n"
   ]
  },
  {
   "cell_type": "code",
   "execution_count": 15,
   "metadata": {},
   "outputs": [
    {
     "name": "stdout",
     "output_type": "stream",
     "text": [
      "Epoch 1/12\n",
      "600/600 [==============================] - 2s 3ms/step - loss: 1.0685 - acc: 0.5917\n",
      "Epoch 2/12\n",
      "600/600 [==============================] - 1s 2ms/step - loss: 0.3711 - acc: 0.8333\n",
      "Epoch 3/12\n",
      "600/600 [==============================] - 1s 2ms/step - loss: 0.2398 - acc: 0.9133\n",
      "Epoch 4/12\n",
      "600/600 [==============================] - 1s 2ms/step - loss: 0.1729 - acc: 0.9350\n",
      "Epoch 5/12\n",
      "600/600 [==============================] - 1s 2ms/step - loss: 0.1332 - acc: 0.9550\n",
      "Epoch 6/12\n",
      "600/600 [==============================] - 1s 2ms/step - loss: 0.1158 - acc: 0.9700\n",
      "Epoch 7/12\n",
      "600/600 [==============================] - 1s 2ms/step - loss: 0.1076 - acc: 0.9767\n",
      "Epoch 8/12\n",
      "600/600 [==============================] - 1s 2ms/step - loss: 0.1035 - acc: 0.9717\n",
      "Epoch 9/12\n",
      "600/600 [==============================] - 1s 2ms/step - loss: 0.0803 - acc: 0.9833\n",
      "Epoch 10/12\n",
      "600/600 [==============================] - 1s 2ms/step - loss: 0.0709 - acc: 0.9867\n",
      "Epoch 11/12\n",
      "600/600 [==============================] - 1s 2ms/step - loss: 0.0592 - acc: 0.9883\n",
      "Epoch 12/12\n",
      "600/600 [==============================] - 1s 2ms/step - loss: 0.0548 - acc: 0.9900\n"
     ]
    },
    {
     "data": {
      "text/plain": [
       "<keras.callbacks.History at 0x131409978>"
      ]
     },
     "execution_count": 15,
     "metadata": {},
     "output_type": "execute_result"
    }
   ],
   "source": [
    "happyModel.fit(X_train, Y_train, epochs=12, batch_size = 50)"
   ]
  },
  {
   "cell_type": "code",
   "execution_count": 16,
   "metadata": {},
   "outputs": [
    {
     "name": "stdout",
     "output_type": "stream",
     "text": [
      "150/150 [==============================] - 0s 1ms/step\n",
      "\n",
      "Loss = 0.157696670293808\n",
      "Test Accuracy = 0.9400000015894572\n"
     ]
    }
   ],
   "source": [
    "preds = happyModel.evaluate(X_test, Y_test, batch_size=32,verbose=1,sample_weight=None)\n",
    "\n",
    "print()\n",
    "print (\"Loss = \" + str(preds[0]))\n",
    "print (\"Test Accuracy = \" + str(preds[1]))"
   ]
  },
  {
   "cell_type": "code",
   "execution_count": 17,
   "metadata": {},
   "outputs": [
    {
     "ename": "FileNotFoundError",
     "evalue": "[Errno 2] No such file or directory: 'images/my_image.jpg'",
     "output_type": "error",
     "traceback": [
      "\u001b[0;31m---------------------------------------------------------------------------\u001b[0m",
      "\u001b[0;31mFileNotFoundError\u001b[0m                         Traceback (most recent call last)",
      "\u001b[0;32m<ipython-input-17-55f692c99739>\u001b[0m in \u001b[0;36m<module>\u001b[0;34m\u001b[0m\n\u001b[1;32m      2\u001b[0m \u001b[0mimg_path\u001b[0m \u001b[0;34m=\u001b[0m \u001b[0;34m'images/my_image.jpg'\u001b[0m\u001b[0;34m\u001b[0m\u001b[0;34m\u001b[0m\u001b[0m\n\u001b[1;32m      3\u001b[0m \u001b[0;31m### END CODE HERE ###\u001b[0m\u001b[0;34m\u001b[0m\u001b[0;34m\u001b[0m\u001b[0;34m\u001b[0m\u001b[0m\n\u001b[0;32m----> 4\u001b[0;31m \u001b[0mimg\u001b[0m \u001b[0;34m=\u001b[0m \u001b[0mimage\u001b[0m\u001b[0;34m.\u001b[0m\u001b[0mload_img\u001b[0m\u001b[0;34m(\u001b[0m\u001b[0mimg_path\u001b[0m\u001b[0;34m,\u001b[0m \u001b[0mtarget_size\u001b[0m\u001b[0;34m=\u001b[0m\u001b[0;34m(\u001b[0m\u001b[0;36m64\u001b[0m\u001b[0;34m,\u001b[0m \u001b[0;36m64\u001b[0m\u001b[0;34m)\u001b[0m\u001b[0;34m)\u001b[0m\u001b[0;34m\u001b[0m\u001b[0;34m\u001b[0m\u001b[0m\n\u001b[0m\u001b[1;32m      5\u001b[0m \u001b[0mimshow\u001b[0m\u001b[0;34m(\u001b[0m\u001b[0mimg\u001b[0m\u001b[0;34m)\u001b[0m\u001b[0;34m\u001b[0m\u001b[0;34m\u001b[0m\u001b[0m\n\u001b[1;32m      6\u001b[0m \u001b[0;34m\u001b[0m\u001b[0m\n",
      "\u001b[0;32m~/anaconda3/lib/python3.7/site-packages/keras_preprocessing/image/utils.py\u001b[0m in \u001b[0;36mload_img\u001b[0;34m(path, grayscale, color_mode, target_size, interpolation)\u001b[0m\n\u001b[1;32m    108\u001b[0m         raise ImportError('Could not import PIL.Image. '\n\u001b[1;32m    109\u001b[0m                           'The use of `load_img` requires PIL.')\n\u001b[0;32m--> 110\u001b[0;31m     \u001b[0mimg\u001b[0m \u001b[0;34m=\u001b[0m \u001b[0mpil_image\u001b[0m\u001b[0;34m.\u001b[0m\u001b[0mopen\u001b[0m\u001b[0;34m(\u001b[0m\u001b[0mpath\u001b[0m\u001b[0;34m)\u001b[0m\u001b[0;34m\u001b[0m\u001b[0;34m\u001b[0m\u001b[0m\n\u001b[0m\u001b[1;32m    111\u001b[0m     \u001b[0;32mif\u001b[0m \u001b[0mcolor_mode\u001b[0m \u001b[0;34m==\u001b[0m \u001b[0;34m'grayscale'\u001b[0m\u001b[0;34m:\u001b[0m\u001b[0;34m\u001b[0m\u001b[0;34m\u001b[0m\u001b[0m\n\u001b[1;32m    112\u001b[0m         \u001b[0;32mif\u001b[0m \u001b[0mimg\u001b[0m\u001b[0;34m.\u001b[0m\u001b[0mmode\u001b[0m \u001b[0;34m!=\u001b[0m \u001b[0;34m'L'\u001b[0m\u001b[0;34m:\u001b[0m\u001b[0;34m\u001b[0m\u001b[0;34m\u001b[0m\u001b[0m\n",
      "\u001b[0;32m~/anaconda3/lib/python3.7/site-packages/PIL/Image.py\u001b[0m in \u001b[0;36mopen\u001b[0;34m(fp, mode)\u001b[0m\n\u001b[1;32m   2768\u001b[0m \u001b[0;34m\u001b[0m\u001b[0m\n\u001b[1;32m   2769\u001b[0m     \u001b[0;32mif\u001b[0m \u001b[0mfilename\u001b[0m\u001b[0;34m:\u001b[0m\u001b[0;34m\u001b[0m\u001b[0;34m\u001b[0m\u001b[0m\n\u001b[0;32m-> 2770\u001b[0;31m         \u001b[0mfp\u001b[0m \u001b[0;34m=\u001b[0m \u001b[0mbuiltins\u001b[0m\u001b[0;34m.\u001b[0m\u001b[0mopen\u001b[0m\u001b[0;34m(\u001b[0m\u001b[0mfilename\u001b[0m\u001b[0;34m,\u001b[0m \u001b[0;34m\"rb\"\u001b[0m\u001b[0;34m)\u001b[0m\u001b[0;34m\u001b[0m\u001b[0;34m\u001b[0m\u001b[0m\n\u001b[0m\u001b[1;32m   2771\u001b[0m         \u001b[0mexclusive_fp\u001b[0m \u001b[0;34m=\u001b[0m \u001b[0;32mTrue\u001b[0m\u001b[0;34m\u001b[0m\u001b[0;34m\u001b[0m\u001b[0m\n\u001b[1;32m   2772\u001b[0m \u001b[0;34m\u001b[0m\u001b[0m\n",
      "\u001b[0;31mFileNotFoundError\u001b[0m: [Errno 2] No such file or directory: 'images/my_image.jpg'"
     ]
    }
   ],
   "source": [
    "### START CODE HERE ###\n",
    "img_path = 'images/my_image.jpg'\n",
    "### END CODE HERE ###\n",
    "img = image.load_img(img_path, target_size=(64, 64))\n",
    "imshow(img)\n",
    "\n",
    "x = image.img_to_array(img)\n",
    "x = np.expand_dims(x, axis=0)\n",
    "x = preprocess_input(x)\n",
    "\n",
    "print(happyModel.predict(x))"
   ]
  },
  {
   "cell_type": "code",
   "execution_count": 18,
   "metadata": {},
   "outputs": [
    {
     "name": "stdout",
     "output_type": "stream",
     "text": [
      "Model: \"HappyModel\"\n",
      "_________________________________________________________________\n",
      "Layer (type)                 Output Shape              Param #   \n",
      "=================================================================\n",
      "input_2 (InputLayer)         (None, 64, 64, 3)         0         \n",
      "_________________________________________________________________\n",
      "zero_padding2d_2 (ZeroPaddin (None, 70, 70, 3)         0         \n",
      "_________________________________________________________________\n",
      "conv0 (Conv2D)               (None, 66, 66, 16)        1216      \n",
      "_________________________________________________________________\n",
      "bn0 (BatchNormalization)     (None, 66, 66, 16)        64        \n",
      "_________________________________________________________________\n",
      "activation_2 (Activation)    (None, 66, 66, 16)        0         \n",
      "_________________________________________________________________\n",
      "max_pool (MaxPooling2D)      (None, 33, 33, 16)        0         \n",
      "_________________________________________________________________\n",
      "flatten_2 (Flatten)          (None, 17424)             0         \n",
      "_________________________________________________________________\n",
      "fc (Dense)                   (None, 1)                 17425     \n",
      "=================================================================\n",
      "Total params: 18,705\n",
      "Trainable params: 18,673\n",
      "Non-trainable params: 32\n",
      "_________________________________________________________________\n"
     ]
    }
   ],
   "source": [
    "happyModel.summary()"
   ]
  },
  {
   "cell_type": "code",
   "execution_count": 21,
   "metadata": {},
   "outputs": [
    {
     "data": {
      "image/svg+xml": [
       "<svg height=\"741pt\" viewBox=\"0.00 0.00 226.00 556.00\" width=\"301pt\" xmlns=\"http://www.w3.org/2000/svg\" xmlns:xlink=\"http://www.w3.org/1999/xlink\">\n",
       "<g class=\"graph\" id=\"graph0\" transform=\"scale(1.3333 1.3333) rotate(0) translate(4 552)\">\n",
       "<title>G</title>\n",
       "<polygon fill=\"#ffffff\" points=\"-4,4 -4,-552 222,-552 222,4 -4,4\" stroke=\"transparent\"/>\n",
       "<!-- 5120201448 -->\n",
       "<g class=\"node\" id=\"node1\">\n",
       "<title>5120201448</title>\n",
       "<polygon fill=\"none\" points=\"44.5,-511.5 44.5,-547.5 173.5,-547.5 173.5,-511.5 44.5,-511.5\" stroke=\"#000000\"/>\n",
       "<text fill=\"#000000\" font-family=\"Times,serif\" font-size=\"14.00\" text-anchor=\"middle\" x=\"109\" y=\"-525.8\">input_2: InputLayer</text>\n",
       "</g>\n",
       "<!-- 5220692152 -->\n",
       "<g class=\"node\" id=\"node2\">\n",
       "<title>5220692152</title>\n",
       "<polygon fill=\"none\" points=\"0,-438.5 0,-474.5 218,-474.5 218,-438.5 0,-438.5\" stroke=\"#000000\"/>\n",
       "<text fill=\"#000000\" font-family=\"Times,serif\" font-size=\"14.00\" text-anchor=\"middle\" x=\"109\" y=\"-452.8\">zero_padding2d_2: ZeroPadding2D</text>\n",
       "</g>\n",
       "<!-- 5120201448&#45;&gt;5220692152 -->\n",
       "<g class=\"edge\" id=\"edge1\">\n",
       "<title>5120201448-&gt;5220692152</title>\n",
       "<path d=\"M109,-511.4551C109,-503.3828 109,-493.6764 109,-484.6817\" fill=\"none\" stroke=\"#000000\"/>\n",
       "<polygon fill=\"#000000\" points=\"112.5001,-484.5903 109,-474.5904 105.5001,-484.5904 112.5001,-484.5903\" stroke=\"#000000\"/>\n",
       "</g>\n",
       "<!-- 5220692320 -->\n",
       "<g class=\"node\" id=\"node3\">\n",
       "<title>5220692320</title>\n",
       "<polygon fill=\"none\" points=\"56,-365.5 56,-401.5 162,-401.5 162,-365.5 56,-365.5\" stroke=\"#000000\"/>\n",
       "<text fill=\"#000000\" font-family=\"Times,serif\" font-size=\"14.00\" text-anchor=\"middle\" x=\"109\" y=\"-379.8\">conv0: Conv2D</text>\n",
       "</g>\n",
       "<!-- 5220692152&#45;&gt;5220692320 -->\n",
       "<g class=\"edge\" id=\"edge2\">\n",
       "<title>5220692152-&gt;5220692320</title>\n",
       "<path d=\"M109,-438.4551C109,-430.3828 109,-420.6764 109,-411.6817\" fill=\"none\" stroke=\"#000000\"/>\n",
       "<polygon fill=\"#000000\" points=\"112.5001,-411.5903 109,-401.5904 105.5001,-411.5904 112.5001,-411.5903\" stroke=\"#000000\"/>\n",
       "</g>\n",
       "<!-- 5220693664 -->\n",
       "<g class=\"node\" id=\"node4\">\n",
       "<title>5220693664</title>\n",
       "<polygon fill=\"none\" points=\"30,-292.5 30,-328.5 188,-328.5 188,-292.5 30,-292.5\" stroke=\"#000000\"/>\n",
       "<text fill=\"#000000\" font-family=\"Times,serif\" font-size=\"14.00\" text-anchor=\"middle\" x=\"109\" y=\"-306.8\">bn0: BatchNormalization</text>\n",
       "</g>\n",
       "<!-- 5220692320&#45;&gt;5220693664 -->\n",
       "<g class=\"edge\" id=\"edge3\">\n",
       "<title>5220692320-&gt;5220693664</title>\n",
       "<path d=\"M109,-365.4551C109,-357.3828 109,-347.6764 109,-338.6817\" fill=\"none\" stroke=\"#000000\"/>\n",
       "<polygon fill=\"#000000\" points=\"112.5001,-338.5903 109,-328.5904 105.5001,-338.5904 112.5001,-338.5903\" stroke=\"#000000\"/>\n",
       "</g>\n",
       "<!-- 5220694280 -->\n",
       "<g class=\"node\" id=\"node5\">\n",
       "<title>5220694280</title>\n",
       "<polygon fill=\"none\" points=\"33,-219.5 33,-255.5 185,-255.5 185,-219.5 33,-219.5\" stroke=\"#000000\"/>\n",
       "<text fill=\"#000000\" font-family=\"Times,serif\" font-size=\"14.00\" text-anchor=\"middle\" x=\"109\" y=\"-233.8\">activation_2: Activation</text>\n",
       "</g>\n",
       "<!-- 5220693664&#45;&gt;5220694280 -->\n",
       "<g class=\"edge\" id=\"edge4\">\n",
       "<title>5220693664-&gt;5220694280</title>\n",
       "<path d=\"M109,-292.4551C109,-284.3828 109,-274.6764 109,-265.6817\" fill=\"none\" stroke=\"#000000\"/>\n",
       "<polygon fill=\"#000000\" points=\"112.5001,-265.5903 109,-255.5904 105.5001,-265.5904 112.5001,-265.5903\" stroke=\"#000000\"/>\n",
       "</g>\n",
       "<!-- 5220791464 -->\n",
       "<g class=\"node\" id=\"node6\">\n",
       "<title>5220791464</title>\n",
       "<polygon fill=\"none\" points=\"26,-146.5 26,-182.5 192,-182.5 192,-146.5 26,-146.5\" stroke=\"#000000\"/>\n",
       "<text fill=\"#000000\" font-family=\"Times,serif\" font-size=\"14.00\" text-anchor=\"middle\" x=\"109\" y=\"-160.8\">max_pool: MaxPooling2D</text>\n",
       "</g>\n",
       "<!-- 5220694280&#45;&gt;5220791464 -->\n",
       "<g class=\"edge\" id=\"edge5\">\n",
       "<title>5220694280-&gt;5220791464</title>\n",
       "<path d=\"M109,-219.4551C109,-211.3828 109,-201.6764 109,-192.6817\" fill=\"none\" stroke=\"#000000\"/>\n",
       "<polygon fill=\"#000000\" points=\"112.5001,-192.5903 109,-182.5904 105.5001,-192.5904 112.5001,-192.5903\" stroke=\"#000000\"/>\n",
       "</g>\n",
       "<!-- 5220792416 -->\n",
       "<g class=\"node\" id=\"node7\">\n",
       "<title>5220792416</title>\n",
       "<polygon fill=\"none\" points=\"53,-73.5 53,-109.5 165,-109.5 165,-73.5 53,-73.5\" stroke=\"#000000\"/>\n",
       "<text fill=\"#000000\" font-family=\"Times,serif\" font-size=\"14.00\" text-anchor=\"middle\" x=\"109\" y=\"-87.8\">flatten_2: Flatten</text>\n",
       "</g>\n",
       "<!-- 5220791464&#45;&gt;5220792416 -->\n",
       "<g class=\"edge\" id=\"edge6\">\n",
       "<title>5220791464-&gt;5220792416</title>\n",
       "<path d=\"M109,-146.4551C109,-138.3828 109,-128.6764 109,-119.6817\" fill=\"none\" stroke=\"#000000\"/>\n",
       "<polygon fill=\"#000000\" points=\"112.5001,-119.5903 109,-109.5904 105.5001,-119.5904 112.5001,-119.5903\" stroke=\"#000000\"/>\n",
       "</g>\n",
       "<!-- 5221150560 -->\n",
       "<g class=\"node\" id=\"node8\">\n",
       "<title>5221150560</title>\n",
       "<polygon fill=\"none\" points=\"74,-.5 74,-36.5 144,-36.5 144,-.5 74,-.5\" stroke=\"#000000\"/>\n",
       "<text fill=\"#000000\" font-family=\"Times,serif\" font-size=\"14.00\" text-anchor=\"middle\" x=\"109\" y=\"-14.8\">fc: Dense</text>\n",
       "</g>\n",
       "<!-- 5220792416&#45;&gt;5221150560 -->\n",
       "<g class=\"edge\" id=\"edge7\">\n",
       "<title>5220792416-&gt;5221150560</title>\n",
       "<path d=\"M109,-73.4551C109,-65.3828 109,-55.6764 109,-46.6817\" fill=\"none\" stroke=\"#000000\"/>\n",
       "<polygon fill=\"#000000\" points=\"112.5001,-46.5903 109,-36.5904 105.5001,-46.5904 112.5001,-46.5903\" stroke=\"#000000\"/>\n",
       "</g>\n",
       "</g>\n",
       "</svg>"
      ],
      "text/plain": [
       "<IPython.core.display.SVG object>"
      ]
     },
     "execution_count": 21,
     "metadata": {},
     "output_type": "execute_result"
    }
   ],
   "source": [
    "plot_model(happyModel, to_file='HappyModel.png')\n",
    "SVG(model_to_dot(happyModel).create(prog='dot', format='svg'))"
   ]
  },
  {
   "cell_type": "code",
   "execution_count": null,
   "metadata": {},
   "outputs": [],
   "source": []
  },
  {
   "cell_type": "code",
   "execution_count": null,
   "metadata": {},
   "outputs": [],
   "source": []
  },
  {
   "cell_type": "code",
   "execution_count": null,
   "metadata": {},
   "outputs": [],
   "source": []
  },
  {
   "cell_type": "code",
   "execution_count": null,
   "metadata": {},
   "outputs": [],
   "source": []
  },
  {
   "cell_type": "code",
   "execution_count": null,
   "metadata": {},
   "outputs": [],
   "source": []
  },
  {
   "cell_type": "code",
   "execution_count": null,
   "metadata": {},
   "outputs": [],
   "source": []
  }
 ],
 "metadata": {
  "kernelspec": {
   "display_name": "Python 3",
   "language": "python",
   "name": "python3"
  },
  "toc": {
   "base_numbering": 1,
   "nav_menu": {},
   "number_sections": true,
   "sideBar": true,
   "skip_h1_title": false,
   "title_cell": "Table of Contents",
   "title_sidebar": "Contents",
   "toc_cell": false,
   "toc_position": {},
   "toc_section_display": true,
   "toc_window_display": false
  }
 },
 "nbformat": 4,
 "nbformat_minor": 2
}
